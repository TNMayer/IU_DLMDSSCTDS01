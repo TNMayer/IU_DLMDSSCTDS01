{
 "cells": [
  {
   "cell_type": "markdown",
   "metadata": {},
   "source": [
    "### Analyzing Google Trends Data for \"random forest\" vs. \"xgboost\"\n",
    "2021-06-01 to 2022-06-01 <br>\n",
    "data accessed: 2022-06-01 <br>\n",
    "Google Trends (https://www.google.com/trends)"
   ]
  },
  {
   "cell_type": "code",
   "execution_count": 25,
   "metadata": {},
   "outputs": [],
   "source": [
    "import numpy as np\n",
    "import pandas as pd\n",
    "import matplotlib.pyplot as plt\n",
    "\n",
    "skiprows = 2\n",
    "\n",
    "def printTrendValues(df):\n",
    "    for i in range(df.shape[1] - 1):\n",
    "        colName = list(df.columns)[i + 1]\n",
    "        print(f\"\"\"{colName}: {np.mean(data[colName])}\"\"\")\n",
    "\n",
    "def plotTrendValues(df, colors=[\"#4285F4\", \"#DB4437\", \"#F4B400\", \"#0F9D58\", \"#4A154B\"]):\n",
    "    fig = plt.figure()\n",
    "    ax = fig.add_axes([0,0,1,1])\n",
    "    x = []\n",
    "    y = []\n",
    "    for i in range(df.shape[1] - 1):\n",
    "        colName = list(df.columns)[i + 1]\n",
    "        dispName = colName.split(\":\", 1)\n",
    "        x.append(dispName[0])\n",
    "        y.append(np.mean(data[colName]))\n",
    "    ax.bar(x,y, color=colors[:len(x)])\n",
    "    ax.tick_params(axis=\"x\", labelrotation=90)\n",
    "    plt.show()"
   ]
  },
  {
   "cell_type": "code",
   "execution_count": 26,
   "metadata": {},
   "outputs": [
    {
     "name": "stdout",
     "output_type": "stream",
     "text": [
      "random forest: (Weltweit): 70.4423076923077\n",
      "xgboost: (Weltweit): 47.67307692307692\n"
     ]
    },
    {
     "data": {
      "image/png": "[encoded data removed]",
      "text/plain": [
       "<Figure size 432x288 with 1 Axes>"
      ]
     },
     "metadata": {
      "needs_background": "light"
     },
     "output_type": "display_data"
    }
   ],
   "source": [
    "path = \"./data/20220601_random_forest_xgboost.csv\"\n",
    "data = pd.read_csv(path, skiprows=skiprows)\n",
    "printTrendValues(data)\n",
    "plotTrendValues(data)"
   ]
  },
  {
   "cell_type": "markdown",
   "metadata": {},
   "source": [
    "### Analyzing Google Trends Data for \"structured critical reasoning\" vs. \"socratic questioning\" vs. \"critical thinking actions\" vs. \"deeper thinking\"\n",
    "2021-06-03 to 2022-06-03 <br>\n",
    "data accessed: 2022-06-03 <br>\n",
    "Google Trends (https://www.google.com/trends)"
   ]
  },
  {
   "cell_type": "code",
   "execution_count": 17,
   "metadata": {},
   "outputs": [
    {
     "name": "stdout",
     "output_type": "stream",
     "text": [
      "socratic questioning: (Weltweit): 67.6923076923077\n",
      "deeper thinking: (Weltweit): 22.442307692307693\n",
      "critical thinking actions: (Weltweit): 9.096153846153847\n",
      "structured critical reasoning: (Weltweit): 0.0\n"
     ]
    }
   ],
   "source": [
    "path = \"./data/20220603_critical_thinking_techniques.csv\"\n",
    "data = pd.read_csv(path, skiprows=skiprows)\n",
    "printTrendValues(data)"
   ]
  },
  {
   "cell_type": "markdown",
   "metadata": {},
   "source": [
    "### Analyzing Google Trends Data for \"regular expressions\" vs. \"html parsing\" vs. \"dom parsing\" vs. \"http programming\" vs. \"semantic annotation recognizing\"\n",
    "2021-06-04 to 2022-06-04 <br>\n",
    "data accessed: 2022-06-04 <br>\n",
    "Google Trends (https://www.google.com/trends)"
   ]
  },
  {
   "cell_type": "code",
   "execution_count": 27,
   "metadata": {},
   "outputs": [
    {
     "name": "stdout",
     "output_type": "stream",
     "text": [
      "regular expressions: (Weltweit): 75.46153846153847\n",
      "html parsing: (Weltweit): 9.442307692307692\n",
      "dom parsing: (Weltweit): 1.5576923076923077\n",
      "http programming: (Weltweit): 10.096153846153847\n",
      "semantic annotation recognizing: (Weltweit): 0.0\n"
     ]
    },
    {
     "data": {
      "image/png": "[encoded data removed]",
      "text/plain": [
       "<Figure size 432x288 with 1 Axes>"
      ]
     },
     "metadata": {
      "needs_background": "light"
     },
     "output_type": "display_data"
    }
   ],
   "source": [
    "path = \"./data/20220604_web_scraping.csv\"\n",
    "data = pd.read_csv(path, skiprows=skiprows)\n",
    "printTrendValues(data)\n",
    "plotTrendValues(data)"
   ]
  }
 ],
 "metadata": {
  "interpreter": {
   "hash": "55f2ae81a2b44a08f67a2d6aff5a52a056bada7dec52cd4cf9b13438a19e52ee"
  },
  "kernelspec": {
   "display_name": "Python 3.9.7 ('selection')",
   "language": "python",
   "name": "python3"
  },
  "language_info": {
   "codemirror_mode": {
    "name": "ipython",
    "version": 3
   },
   "file_extension": ".py",
   "mimetype": "text/x-python",
   "name": "python",
   "nbconvert_exporter": "python",
   "pygments_lexer": "ipython3",
   "version": "3.9.7"
  },
  "orig_nbformat": 4
 },
 "nbformat": 4,
 "nbformat_minor": 2
}
