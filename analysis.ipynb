{
 "cells": [
  {
   "cell_type": "markdown",
   "metadata": {},
   "source": [
    "### Analyzing Google Trends Data for \"random forest\" vs. \"xgboost\"\n",
    "2021-06-01 to 2022-06-01 <br>\n",
    "data accessed: 2022-06-01 <br>\n",
    "Google Trends (https://www.google.com/trends)"
   ]
  },
  {
   "cell_type": "code",
   "execution_count": 15,
   "metadata": {},
   "outputs": [],
   "source": [
    "import numpy as np\n",
    "import pandas as pd\n",
    "\n",
    "skiprows = 2\n",
    "\n",
    "def printTrendValues(df):\n",
    "    for i in range(df.shape[1] - 1):\n",
    "        colName = list(df.columns)[i + 1]\n",
    "        print(f\"\"\"{colName}: {np.mean(data[colName])}\"\"\")"
   ]
  },
  {
   "cell_type": "code",
   "execution_count": 16,
   "metadata": {},
   "outputs": [
    {
     "name": "stdout",
     "output_type": "stream",
     "text": [
      "random forest: (Weltweit): 70.4423076923077\n",
      "xgboost: (Weltweit): 47.67307692307692\n"
     ]
    }
   ],
   "source": [
    "path = \"./data/20220601_random_forest_xgboost.csv\"\n",
    "data = pd.read_csv(path, skiprows=skiprows)\n",
    "printTrendValues(data)"
   ]
  },
  {
   "cell_type": "markdown",
   "metadata": {},
   "source": [
    "### Analyzing Google Trends Data for \"structured critical reasoning\" vs. \"socratic questioning\" vs. \"critical thinking actions\" vs. \"deeper thinking\"\n",
    "2021-06-03 to 2022-06-03 <br>\n",
    "data accessed: 2022-06-03 <br>\n",
    "Google Trends (https://www.google.com/trends)"
   ]
  },
  {
   "cell_type": "code",
   "execution_count": 17,
   "metadata": {},
   "outputs": [
    {
     "name": "stdout",
     "output_type": "stream",
     "text": [
      "socratic questioning: (Weltweit): 67.6923076923077\n",
      "deeper thinking: (Weltweit): 22.442307692307693\n",
      "critical thinking actions: (Weltweit): 9.096153846153847\n",
      "structured critical reasoning: (Weltweit): 0.0\n"
     ]
    }
   ],
   "source": [
    "path = \"./data/20220603_critical_thinking_techniques.csv\"\n",
    "data = pd.read_csv(path, skiprows=skiprows)\n",
    "printTrendValues(data)"
   ]
  }
 ],
 "metadata": {
  "interpreter": {
   "hash": "55f2ae81a2b44a08f67a2d6aff5a52a056bada7dec52cd4cf9b13438a19e52ee"
  },
  "kernelspec": {
   "display_name": "Python 3.9.7 ('selection')",
   "language": "python",
   "name": "python3"
  },
  "language_info": {
   "codemirror_mode": {
    "name": "ipython",
    "version": 3
   },
   "file_extension": ".py",
   "mimetype": "text/x-python",
   "name": "python",
   "nbconvert_exporter": "python",
   "pygments_lexer": "ipython3",
   "version": "3.9.7"
  },
  "orig_nbformat": 4
 },
 "nbformat": 4,
 "nbformat_minor": 2
}
