{
 "cells": [
  {
   "cell_type": "markdown",
   "metadata": {},
   "source": [
    "### Analyzing Google Trends Data for \"random forest\" vs. \"xgboost\"\n",
    "2021-06-01 to 2022-06-01 <br>\n",
    "data accessed: 2022-06-01 <br>\n",
    "Google Trends (https://www.google.com/trends)"
   ]
  },
  {
   "cell_type": "code",
   "execution_count": 9,
   "metadata": {},
   "outputs": [],
   "source": [
    "import numpy as np\n",
    "import pandas as pd\n",
    "\n",
    "skiprows = 2"
   ]
  },
  {
   "cell_type": "code",
   "execution_count": 10,
   "metadata": {},
   "outputs": [
    {
     "name": "stdout",
     "output_type": "stream",
     "text": [
      "\"random forest\": 70.4423076923077\n",
      "\"xgboost\": 47.67307692307692\n"
     ]
    }
   ],
   "source": [
    "path = \"./data/20220601_random_forest_xgboost.csv\"\n",
    "data = pd.read_csv(path, skiprows=skiprows)\n",
    "data.columns = [\"week\", \"random forest\", \"xgboost\"]\n",
    "print(f\"\"\"\"random forest\": {np.mean(data[\"random forest\"])}\"\"\")\n",
    "print(f\"\"\"\"xgboost\": {np.mean(data[\"xgboost\"])}\"\"\")"
   ]
  }
 ],
 "metadata": {
  "interpreter": {
   "hash": "55f2ae81a2b44a08f67a2d6aff5a52a056bada7dec52cd4cf9b13438a19e52ee"
  },
  "kernelspec": {
   "display_name": "Python 3.9.7 ('selection')",
   "language": "python",
   "name": "python3"
  },
  "language_info": {
   "codemirror_mode": {
    "name": "ipython",
    "version": 3
   },
   "file_extension": ".py",
   "mimetype": "text/x-python",
   "name": "python",
   "nbconvert_exporter": "python",
   "pygments_lexer": "ipython3",
   "version": "3.9.7"
  },
  "orig_nbformat": 4
 },
 "nbformat": 4,
 "nbformat_minor": 2
}
