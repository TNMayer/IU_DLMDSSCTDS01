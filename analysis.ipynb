{
 "cells": [
  {
   "cell_type": "markdown",
   "metadata": {},
   "source": [
    "### Exploratory Analysis based on ACLED data from the Sahel region\n",
    "\n",
    "The Sahel region includes the countries Mauritania, Mali, Burkina Faso, Chad and Niger. For this exploratory data analysis usecase data from the Armed Conflict Location & Event Data Project (ACLED); https://www.acleddata.com was used. For information concerning the methodology of ACLED can be found in: ACLED. (2019). Armed Conflict Location & Event Data Project (ACLED) Codebook, 2019. Only a subset of the data is used for this usecase including the columns \"data_id\", \"country\", \"iso3\", \"event_type\", \"fatalities\", \"event_date\" and the timeperiod from 2016-01-01 until 2021-12-31 (including). "
   ]
  },
  {
   "cell_type": "markdown",
   "metadata": {},
   "source": [
    "#### Loading libraries and data"
   ]
  },
  {
   "cell_type": "code",
   "execution_count": 24,
   "metadata": {},
   "outputs": [
    {
     "data": {
      "text/html": [
       "<div>\n",
       "<style scoped>\n",
       "    .dataframe tbody tr th:only-of-type {\n",
       "        vertical-align: middle;\n",
       "    }\n",
       "\n",
       "    .dataframe tbody tr th {\n",
       "        vertical-align: top;\n",
       "    }\n",
       "\n",
       "    .dataframe thead th {\n",
       "        text-align: right;\n",
       "    }\n",
       "</style>\n",
       "<table border=\"1\" class=\"dataframe\">\n",
       "  <thead>\n",
       "    <tr style=\"text-align: right;\">\n",
       "      <th></th>\n",
       "      <th>data_id</th>\n",
       "      <th>iso3</th>\n",
       "      <th>country</th>\n",
       "      <th>latitude</th>\n",
       "      <th>longitude</th>\n",
       "      <th>event_type</th>\n",
       "      <th>fatalities</th>\n",
       "      <th>count</th>\n",
       "    </tr>\n",
       "  </thead>\n",
       "  <tbody>\n",
       "    <tr>\n",
       "      <th>0</th>\n",
       "      <td>8705857</td>\n",
       "      <td>MLI</td>\n",
       "      <td>Mali</td>\n",
       "      <td>13.9964</td>\n",
       "      <td>-3.9414</td>\n",
       "      <td>Battles</td>\n",
       "      <td>16</td>\n",
       "      <td>1</td>\n",
       "    </tr>\n",
       "    <tr>\n",
       "      <th>1</th>\n",
       "      <td>8706560</td>\n",
       "      <td>NER</td>\n",
       "      <td>Niger</td>\n",
       "      <td>14.4637</td>\n",
       "      <td>3.3146</td>\n",
       "      <td>Violence against civilians</td>\n",
       "      <td>0</td>\n",
       "      <td>1</td>\n",
       "    </tr>\n",
       "    <tr>\n",
       "      <th>2</th>\n",
       "      <td>8706884</td>\n",
       "      <td>BFA</td>\n",
       "      <td>Burkina Faso</td>\n",
       "      <td>13.8455</td>\n",
       "      <td>-1.9055</td>\n",
       "      <td>Explosions/Remote violence</td>\n",
       "      <td>0</td>\n",
       "      <td>1</td>\n",
       "    </tr>\n",
       "    <tr>\n",
       "      <th>3</th>\n",
       "      <td>8706897</td>\n",
       "      <td>BFA</td>\n",
       "      <td>Burkina Faso</td>\n",
       "      <td>13.7427</td>\n",
       "      <td>-1.9017</td>\n",
       "      <td>Explosions/Remote violence</td>\n",
       "      <td>0</td>\n",
       "      <td>1</td>\n",
       "    </tr>\n",
       "    <tr>\n",
       "      <th>4</th>\n",
       "      <td>8706980</td>\n",
       "      <td>BFA</td>\n",
       "      <td>Burkina Faso</td>\n",
       "      <td>13.8711</td>\n",
       "      <td>-2.1594</td>\n",
       "      <td>Explosions/Remote violence</td>\n",
       "      <td>0</td>\n",
       "      <td>1</td>\n",
       "    </tr>\n",
       "  </tbody>\n",
       "</table>\n",
       "</div>"
      ],
      "text/plain": [
       "   data_id iso3       country  latitude  longitude  \\\n",
       "0  8705857  MLI          Mali   13.9964    -3.9414   \n",
       "1  8706560  NER         Niger   14.4637     3.3146   \n",
       "2  8706884  BFA  Burkina Faso   13.8455    -1.9055   \n",
       "3  8706897  BFA  Burkina Faso   13.7427    -1.9017   \n",
       "4  8706980  BFA  Burkina Faso   13.8711    -2.1594   \n",
       "\n",
       "                   event_type  fatalities  count  \n",
       "0                     Battles          16      1  \n",
       "1  Violence against civilians           0      1  \n",
       "2  Explosions/Remote violence           0      1  \n",
       "3  Explosions/Remote violence           0      1  \n",
       "4  Explosions/Remote violence           0      1  "
      ]
     },
     "execution_count": 24,
     "metadata": {},
     "output_type": "execute_result"
    }
   ],
   "source": [
    "import numpy as np\n",
    "import pandas as pd\n",
    "import matplotlib.pyplot as plt\n",
    "\n",
    "path = \"./data/acled_sahel.csv\"\n",
    "data = pd.read_csv(path)\n",
    "data = data[[\"data_id\", \"iso3\", \"country\", \"latitude\", \"longitude\", \"event_type\", \"fatalities\"]]\n",
    "data[\"count\"] = 1\n",
    "\n",
    "data.head()"
   ]
  },
  {
   "cell_type": "markdown",
   "metadata": {},
   "source": [
    "#### Summarizing and Grouping"
   ]
  },
  {
   "cell_type": "markdown",
   "metadata": {},
   "source": [
    "<b>Calculating and visualizing the average fatalities by country for complete timeframe</b>"
   ]
  },
  {
   "cell_type": "code",
   "execution_count": 39,
   "metadata": {},
   "outputs": [
    {
     "data": {
      "text/html": [
       "<div>\n",
       "<style scoped>\n",
       "    .dataframe tbody tr th:only-of-type {\n",
       "        vertical-align: middle;\n",
       "    }\n",
       "\n",
       "    .dataframe tbody tr th {\n",
       "        vertical-align: top;\n",
       "    }\n",
       "\n",
       "    .dataframe thead th {\n",
       "        text-align: right;\n",
       "    }\n",
       "</style>\n",
       "<table border=\"1\" class=\"dataframe\">\n",
       "  <thead>\n",
       "    <tr style=\"text-align: right;\">\n",
       "      <th></th>\n",
       "      <th>mean_fatalities</th>\n",
       "      <th>median_fatalities</th>\n",
       "      <th>mode_fatalities</th>\n",
       "    </tr>\n",
       "    <tr>\n",
       "      <th>country</th>\n",
       "      <th></th>\n",
       "      <th></th>\n",
       "      <th></th>\n",
       "    </tr>\n",
       "  </thead>\n",
       "  <tbody>\n",
       "    <tr>\n",
       "      <th>Burkina Faso</th>\n",
       "      <td>1.704079</td>\n",
       "      <td>0.0</td>\n",
       "      <td>0</td>\n",
       "    </tr>\n",
       "    <tr>\n",
       "      <th>Chad</th>\n",
       "      <td>3.562500</td>\n",
       "      <td>0.0</td>\n",
       "      <td>0</td>\n",
       "    </tr>\n",
       "    <tr>\n",
       "      <th>Mali</th>\n",
       "      <td>1.996070</td>\n",
       "      <td>0.0</td>\n",
       "      <td>0</td>\n",
       "    </tr>\n",
       "    <tr>\n",
       "      <th>Mauritania</th>\n",
       "      <td>0.014509</td>\n",
       "      <td>0.0</td>\n",
       "      <td>0</td>\n",
       "    </tr>\n",
       "    <tr>\n",
       "      <th>Niger</th>\n",
       "      <td>2.669078</td>\n",
       "      <td>0.0</td>\n",
       "      <td>0</td>\n",
       "    </tr>\n",
       "  </tbody>\n",
       "</table>\n",
       "</div>"
      ],
      "text/plain": [
       "              mean_fatalities  median_fatalities  mode_fatalities\n",
       "country                                                          \n",
       "Burkina Faso         1.704079                0.0                0\n",
       "Chad                 3.562500                0.0                0\n",
       "Mali                 1.996070                0.0                0\n",
       "Mauritania           0.014509                0.0                0\n",
       "Niger                2.669078                0.0                0"
      ]
     },
     "execution_count": 39,
     "metadata": {},
     "output_type": "execute_result"
    }
   ],
   "source": [
    "grouped_statistic = data.groupby(\"country\").agg(\n",
    "    mean_fatalities = pd.NamedAgg(column=\"fatalities\", aggfunc=\"mean\"),\n",
    "    median_fatalities = pd.NamedAgg(column=\"fatalities\", aggfunc=\"median\"),\n",
    "    mode_fatalities = pd.NamedAgg(column=\"fatalities\", aggfunc=pd.Series.mode)\n",
    ")\n",
    "grouped_statistic"
   ]
  },
  {
   "cell_type": "code",
   "execution_count": 45,
   "metadata": {},
   "outputs": [
    {
     "data": {
      "image/png": "[encoded data removed]",
      "text/plain": [
       "<Figure size 432x288 with 1 Axes>"
      ]
     },
     "metadata": {
      "needs_background": "light"
     },
     "output_type": "display_data"
    }
   ],
   "source": [
    "countries = list(grouped_statistic.index)\n",
    "x_pos = np.arange(len(countries))\n",
    "y = list(grouped_statistic.mean_fatalities)\n",
    "color_palette = [\"#003f5c\", \"#58508d\", \"#bc5090\", \"#ff6361\", \"#ffa600\"]\n",
    "\n",
    "plt.bar(x_pos, y, color=color_palette)\n",
    "plt.xticks(x_pos, countries, rotation=45)\n",
    "plt.show()"
   ]
  },
  {
   "cell_type": "markdown",
   "metadata": {},
   "source": [
    "<b>Calculating and visualizing the dispersion of fatalities across the countries</b>"
   ]
  },
  {
   "cell_type": "code",
   "execution_count": 54,
   "metadata": {},
   "outputs": [
    {
     "data": {
      "text/html": [
       "<div>\n",
       "<style scoped>\n",
       "    .dataframe tbody tr th:only-of-type {\n",
       "        vertical-align: middle;\n",
       "    }\n",
       "\n",
       "    .dataframe tbody tr th {\n",
       "        vertical-align: top;\n",
       "    }\n",
       "\n",
       "    .dataframe thead th {\n",
       "        text-align: right;\n",
       "    }\n",
       "</style>\n",
       "<table border=\"1\" class=\"dataframe\">\n",
       "  <thead>\n",
       "    <tr style=\"text-align: right;\">\n",
       "      <th></th>\n",
       "      <th>min_fatalities</th>\n",
       "      <th>max_fatalities</th>\n",
       "      <th>sd_fatalities</th>\n",
       "      <th>var_falities</th>\n",
       "      <th>q1_fatalities</th>\n",
       "      <th>q2_fatalities</th>\n",
       "      <th>q3_fatalities</th>\n",
       "      <th>q4_fatalities</th>\n",
       "    </tr>\n",
       "    <tr>\n",
       "      <th>country</th>\n",
       "      <th></th>\n",
       "      <th></th>\n",
       "      <th></th>\n",
       "      <th></th>\n",
       "      <th></th>\n",
       "      <th></th>\n",
       "      <th></th>\n",
       "      <th></th>\n",
       "    </tr>\n",
       "  </thead>\n",
       "  <tbody>\n",
       "    <tr>\n",
       "      <th>Burkina Faso</th>\n",
       "      <td>0</td>\n",
       "      <td>160</td>\n",
       "      <td>5.624898</td>\n",
       "      <td>31.639474</td>\n",
       "      <td>0.0</td>\n",
       "      <td>0.0</td>\n",
       "      <td>1.0</td>\n",
       "      <td>160.0</td>\n",
       "    </tr>\n",
       "    <tr>\n",
       "      <th>Chad</th>\n",
       "      <td>0</td>\n",
       "      <td>305</td>\n",
       "      <td>15.113435</td>\n",
       "      <td>228.415906</td>\n",
       "      <td>0.0</td>\n",
       "      <td>0.0</td>\n",
       "      <td>2.0</td>\n",
       "      <td>305.0</td>\n",
       "    </tr>\n",
       "    <tr>\n",
       "      <th>Mali</th>\n",
       "      <td>0</td>\n",
       "      <td>157</td>\n",
       "      <td>5.382781</td>\n",
       "      <td>28.974328</td>\n",
       "      <td>0.0</td>\n",
       "      <td>0.0</td>\n",
       "      <td>2.0</td>\n",
       "      <td>157.0</td>\n",
       "    </tr>\n",
       "    <tr>\n",
       "      <th>Mauritania</th>\n",
       "      <td>0</td>\n",
       "      <td>2</td>\n",
       "      <td>0.152489</td>\n",
       "      <td>0.023253</td>\n",
       "      <td>0.0</td>\n",
       "      <td>0.0</td>\n",
       "      <td>0.0</td>\n",
       "      <td>2.0</td>\n",
       "    </tr>\n",
       "    <tr>\n",
       "      <th>Niger</th>\n",
       "      <td>0</td>\n",
       "      <td>166</td>\n",
       "      <td>9.365495</td>\n",
       "      <td>87.712499</td>\n",
       "      <td>0.0</td>\n",
       "      <td>0.0</td>\n",
       "      <td>2.0</td>\n",
       "      <td>166.0</td>\n",
       "    </tr>\n",
       "  </tbody>\n",
       "</table>\n",
       "</div>"
      ],
      "text/plain": [
       "              min_fatalities  max_fatalities  sd_fatalities  var_falities  \\\n",
       "country                                                                     \n",
       "Burkina Faso               0             160       5.624898     31.639474   \n",
       "Chad                       0             305      15.113435    228.415906   \n",
       "Mali                       0             157       5.382781     28.974328   \n",
       "Mauritania                 0               2       0.152489      0.023253   \n",
       "Niger                      0             166       9.365495     87.712499   \n",
       "\n",
       "              q1_fatalities  q2_fatalities  q3_fatalities  q4_fatalities  \n",
       "country                                                                   \n",
       "Burkina Faso            0.0            0.0            1.0          160.0  \n",
       "Chad                    0.0            0.0            2.0          305.0  \n",
       "Mali                    0.0            0.0            2.0          157.0  \n",
       "Mauritania              0.0            0.0            0.0            2.0  \n",
       "Niger                   0.0            0.0            2.0          166.0  "
      ]
     },
     "execution_count": 54,
     "metadata": {},
     "output_type": "execute_result"
    }
   ],
   "source": [
    "grouped_statistic_disp = data.groupby(\"country\").agg(\n",
    "    min_fatalities = pd.NamedAgg(column=\"fatalities\", aggfunc=np.min),\n",
    "    max_fatalities = pd.NamedAgg(column=\"fatalities\", aggfunc=\"max\"),\n",
    "    sd_fatalities = pd.NamedAgg(column=\"fatalities\", aggfunc=np.std),\n",
    "    var_falities = pd.NamedAgg(column=\"fatalities\", aggfunc=np.var),\n",
    "    q1_fatalities = pd.NamedAgg(column=\"fatalities\", aggfunc=lambda x: np.percentile(x, 25)),\n",
    "    q2_fatalities = pd.NamedAgg(column=\"fatalities\", aggfunc=lambda x: np.percentile(x, 50)),\n",
    "    q3_fatalities = pd.NamedAgg(column=\"fatalities\", aggfunc=lambda x: np.percentile(x, 75)),\n",
    "    q4_fatalities = pd.NamedAgg(column=\"fatalities\", aggfunc=lambda x: np.percentile(x, 100))\n",
    "\n",
    ")\n",
    "grouped_statistic_disp"
   ]
  },
  {
   "cell_type": "code",
   "execution_count": 60,
   "metadata": {},
   "outputs": [
    {
     "data": {
      "text/plain": [
       "(array([1, 2, 3, 4, 5]),\n",
       " [Text(1, 0, 'Burkina Faso'),\n",
       "  Text(2, 0, 'Chad'),\n",
       "  Text(3, 0, 'Mali'),\n",
       "  Text(4, 0, 'Mauritania'),\n",
       "  Text(5, 0, 'Niger')])"
      ]
     },
     "execution_count": 60,
     "metadata": {},
     "output_type": "execute_result"
    },
    {
     "data": {
      "image/png": "[encoded data removed]",
      "text/plain": [
       "<Figure size 432x288 with 1 Axes>"
      ]
     },
     "metadata": {
      "needs_background": "light"
     },
     "output_type": "display_data"
    }
   ],
   "source": [
    "data_dict = {country:list(data[data[\"country\"] == country].fatalities) for country in list(grouped_statistic_disp.index)}\n",
    "\n",
    "fig, ax = plt.subplots()\n",
    "ax.boxplot(data_dict.values())\n",
    "ax.set_xticklabels(data_dict.keys())\n",
    "plt.xticks(rotation=45)"
   ]
  },
  {
   "cell_type": "markdown",
   "metadata": {},
   "source": [
    "From the box plot we can see that the fatalities are exceptionally scewed distributed with many outliers!"
   ]
  },
  {
   "cell_type": "markdown",
   "metadata": {},
   "source": []
  }
 ],
 "metadata": {
  "interpreter": {
   "hash": "55f2ae81a2b44a08f67a2d6aff5a52a056bada7dec52cd4cf9b13438a19e52ee"
  },
  "kernelspec": {
   "display_name": "Python 3.9.7 ('selection')",
   "language": "python",
   "name": "python3"
  },
  "language_info": {
   "codemirror_mode": {
    "name": "ipython",
    "version": 3
   },
   "file_extension": ".py",
   "mimetype": "text/x-python",
   "name": "python",
   "nbconvert_exporter": "python",
   "pygments_lexer": "ipython3",
   "version": "3.9.7"
  },
  "orig_nbformat": 4
 },
 "nbformat": 4,
 "nbformat_minor": 2
}
